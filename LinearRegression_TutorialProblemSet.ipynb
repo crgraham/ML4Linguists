{
 "cells": [
  {
   "cell_type": "markdown",
   "id": "42a4f6d9",
   "metadata": {},
   "source": [
    "# $\\mathbf{\\text{Linear Regression: A Tutorial}}$<br>"
   ]
  },
  {
   "cell_type": "markdown",
   "id": "0dbef649",
   "metadata": {},
   "source": [
    "$\\text{First, we import the libraries}$"
   ]
  },
  {
   "cell_type": "code",
   "execution_count": null,
   "id": "1f1ae4d9",
   "metadata": {},
   "outputs": [],
   "source": [
    "%matplotlib inline\n",
    "import numpy as np\n",
    "import pandas as pd\n",
    "import matplotlib.pyplot as plt\n",
    "plt.rcParams['figure.figsize'] = (20.0, 10.0)"
   ]
  },
  {
   "cell_type": "markdown",
   "id": "43c0246b",
   "metadata": {},
   "source": [
    "$\\text{Next we import the Iris dataset from sklearn. The Iris dataset is the classic dataset for Data Science.}$\n",
    "$\\text{It contains five columns about Iris flowers: Petal Length, Petal Width, Sepal Length, Sepal Width, and Species Type}$"
   ]
  },
  {
   "cell_type": "code",
   "execution_count": null,
   "id": "ccc18d2f",
   "metadata": {},
   "outputs": [],
   "source": [
    "iris_data = pd.read_csv(\"./iris_csv.csv\")\n",
    "iris_data.head() #show the first 5 rows of the dataset"
   ]
  },
  {
   "cell_type": "code",
   "execution_count": null,
   "id": "6a03aaee",
   "metadata": {},
   "outputs": [],
   "source": [
    "iris_data.sample(10) #show a random sample of 10 of the dataset"
   ]
  },
  {
   "cell_type": "markdown",
   "id": "ea52a7cd",
   "metadata": {},
   "source": [
    "$\\mathbf{\\text{Task}}$<br>\n",
    "\n",
    "$\\text{Explore the dataset using the pandas functions:}$ <br>\n",
    "$columns()$<br>\n",
    "$shape()$ <br>\n",
    "$iloc()$ $\\text{Identify columns by their row index}$<br>\n",
    "$loc()$ $\\text{Identify columns by name}$<br>"
   ]
  },
  {
   "cell_type": "code",
   "execution_count": null,
   "id": "ed0edb96",
   "metadata": {},
   "outputs": [],
   "source": [
    "#############################################################################\n",
    "##Write Code here:\n",
    "\n",
    "\n",
    "#############################################################################"
   ]
  },
  {
   "cell_type": "markdown",
   "id": "14e70331",
   "metadata": {},
   "source": [
    "## $\\mathbf{\\text{Introducing Linear Regression}}$<br>\n",
    "\n",
    "We will be focusing here on simple bivariate linear regression. This means we try to model how a change in one variable (the independent/explanatory/predictor variable) is related to a change in other variable (dependent/predicted variable). Usually, the independent variable is denoted by $\\mathbf{X}$ and the dependent by $\\mathbf{y}$.\n",
    "\n",
    "Linear regression, in its simplest bivariate form, can model a linear relationship between a vector of values $\\mathbf{x}$ and a vector of values $\\mathbf{y}$. It essentially fits a line of best fit. This line has the familiar mathematical characterisation from high-school maths classes of $\\mathbf{y = mx + c}$. $\\mathbf{m}$ is the (gradient/slope/scale) coefficient, it tells you how much a value *y* changes when you change a value of *x* by 1 unit. $\\mathbf{c}$ is the intercept (or sometimes the bias coefficient). It tells you what we expect *y* to be when *x* is 0 (and therefore $\\mathbf{mx}$ is 0).\n",
    "\n",
    "Usually, we rearrange this equation and use different letters when we talk in DataScience/ML contexts. This is because the new notation generalises better when we think about multivariate cases and more general modelling techniques. However, they are essentially the same. The following is used to characterise the bivariate linear model:\n",
    "\n",
    "$$\\mathbf{y} = \\beta_{0} + \\beta_{1}\\mathbf{x}$$\n",
    "\n",
    "Our job is to find the best values of $\\beta_{0}$ and $\\beta_{1}$ for our dataset containing {$\\mathbf{x, y}$}\n",
    "\n",
    "Let's plot some data with Iris. Let's assume that we are interested in how petal width changes based on petal length.\n",
    "\n",
    "Find the columns of interest and assign them to x and y variables\n"
   ]
  },
  {
   "cell_type": "code",
   "execution_count": null,
   "id": "f042bdfa",
   "metadata": {},
   "outputs": [],
   "source": [
    "############Fill in the parts of the code necessary\n",
    "\n",
    "x = iris_data[''].values\n",
    "y = iris_data[''].values"
   ]
  },
  {
   "cell_type": "code",
   "execution_count": null,
   "id": "3ee8d2b6",
   "metadata": {
    "scrolled": true
   },
   "outputs": [],
   "source": [
    "###########Plot the data using matplotlib\n",
    "\n",
    "plt.scatter(x, y, label = 'Scatter Plot of Iris Dataset')"
   ]
  },
  {
   "cell_type": "code",
   "execution_count": null,
   "id": "dfd1b7e8",
   "metadata": {},
   "outputs": [],
   "source": []
  }
 ],
 "metadata": {
  "kernelspec": {
   "display_name": "Python 3 (ipykernel)",
   "language": "python",
   "name": "python3"
  },
  "language_info": {
   "codemirror_mode": {
    "name": "ipython",
    "version": 3
   },
   "file_extension": ".py",
   "mimetype": "text/x-python",
   "name": "python",
   "nbconvert_exporter": "python",
   "pygments_lexer": "ipython3",
   "version": "3.10.0"
  }
 },
 "nbformat": 4,
 "nbformat_minor": 5
}
